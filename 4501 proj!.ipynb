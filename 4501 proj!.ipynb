{
 "cells": [
  {
   "cell_type": "code",
   "execution_count": 1,
   "id": "6797dec9",
   "metadata": {},
   "outputs": [],
   "source": [
    "import math\n",
    "import bs4\n",
    "import re\n",
    "import os\n",
    "import requests\n",
    "import datetime\n",
    "import pandas as pd\n",
    "import geopandas as gpd\n",
    "from sqlalchemy import create_engine\n",
    "from sqlalchemy.orm import sessionmaker, scoped_session\n",
    "import matplotlib.pyplot as plt\n",
    "from bs4 import BeautifulSoup"
   ]
  },
  {
   "cell_type": "code",
   "execution_count": 2,
   "id": "1e0f15a7",
   "metadata": {},
   "outputs": [],
   "source": [
    "TAXI_URL = \"https://www1.nyc.gov/site/tlc/about/tlc-trip-record-data.page\"\n",
    "UBER_CSV = \"uber_rides_sample.csv\"\n",
    "WEATHER_DIR = 'weather_files'\n",
    "TAXI_DIR = 'taxi_files'\n",
    "\n",
    "# (latitude,longitude) \n",
    "NEW_YORK_BOX_COORDS = ((40.560445, -74.242330), (40.908524, -73.717047))\n",
    "EARTH_REDIUS = 6378.137\n",
    "\n",
    "DATABASE_URL = \"sqlite:///project.db\"\n",
    "DATABASE_SCHEMA_FILE = \"schema.sql\"\n",
    "QUERY_DIRECTORY = \"queries\""
   ]
  },
  {
   "cell_type": "code",
   "execution_count": 11,
   "id": "bf4d705e",
   "metadata": {},
   "outputs": [],
   "source": [
    "\n",
    "# Calculate the distance through coordinates\n",
    "def calculate_distance(from_coord, to_coord):\n",
    "    lat1, lng1 = from_coord\n",
    "    lat2, lng2 = to_coord\n",
    "    rad_lat1 = rad(lat1)\n",
    "    rad_lat2 = rad(lat2)\n",
    "    a = rad_lat1 - rad_lat2\n",
    "    b = rad(lng1) - rad(lng2)\n",
    "    s = 2 * math.asin(math.sqrt(math.pow(math.sin(a/2), 2) + math.cos(rad_lat1) * math.cos(rad_lat2) *\n",
    "                                math.pow(math.sin(b/2), 2)))\n",
    "    s = s * EARTH_REDIUS\n",
    "    return s\n",
    "    \n",
    "\n",
    "# Add the coordinate columns to the dataframe\n",
    "def add_distance_column(dataframe):\n",
    "    dataframe['trip_distance'] = dataframe.apply(\n",
    "        lambda x: calculate_distance(\n",
    "            (x.loc['pickup_latitude'], x.loc['pickup_longitude']),\n",
    "            (x.loc['dropoff_latitude'], x.loc['dropoff_longitude'])\n",
    "        ), axis=1\n",
    "    )"
   ]
  },
  {
   "cell_type": "code",
   "execution_count": 14,
   "id": "afa56c09",
   "metadata": {},
   "outputs": [],
   "source": [
    "### Part 1: Data Preprocessing"
   ]
  },
  {
   "cell_type": "code",
   "execution_count": 15,
   "id": "4775df6b",
   "metadata": {},
   "outputs": [],
   "source": [
    "# Get the download links of yellow taxi from 2009-01 to 2015-06\n",
    "def find_taxi_csv_urls():\n",
    "    response = requests.get(TAXI_URL)\n",
    "    soup = BeautifulSoup(response.text, \"html.parser\")\n",
    "    url_tags = soup.find_all(\"a\", title=\"Yellow Taxi Trip Records\")\n",
    "    all_csv_urls = []\n",
    "    pattern = \"2009|2010|2011|2012|2013|2014|2015-0[1-6]\"\n",
    "\n",
    "    for url_tag in url_tags:\n",
    "        if re.findall(pattern, url_tag[\"href\"]):\n",
    "            all_csv_urls.append(url_tag[\"href\"])\n",
    "\n",
    "    return all_csv_urls"
   ]
  },
  {
   "cell_type": "code",
   "execution_count": null,
   "id": "a3f1e1a9",
   "metadata": {},
   "outputs": [],
   "source": []
  }
 ],
 "metadata": {
  "kernelspec": {
   "display_name": "base",
   "language": "python",
   "name": "python3"
  },
  "language_info": {
   "codemirror_mode": {
    "name": "ipython",
    "version": 3
   },
   "file_extension": ".py",
   "mimetype": "text/x-python",
   "name": "python",
   "nbconvert_exporter": "python",
   "pygments_lexer": "ipython3",
   "version": "3.9.13 (main, Aug 25 2022, 18:29:29) \n[Clang 12.0.0 ]"
  },
  "vscode": {
   "interpreter": {
    "hash": "40d3a090f54c6569ab1632332b64b2c03c39dcf918b08424e98f38b5ae0af88f"
   }
  }
 },
 "nbformat": 4,
 "nbformat_minor": 5
}
